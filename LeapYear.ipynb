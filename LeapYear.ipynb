{
  "nbformat": 4,
  "nbformat_minor": 0,
  "metadata": {
    "colab": {
      "provenance": [],
      "authorship_tag": "ABX9TyNdsuXm+d54fMYpAQ6TNdSx",
      "include_colab_link": true
    },
    "kernelspec": {
      "name": "python3",
      "display_name": "Python 3"
    },
    "language_info": {
      "name": "python"
    }
  },
  "cells": [
    {
      "cell_type": "markdown",
      "metadata": {
        "id": "view-in-github",
        "colab_type": "text"
      },
      "source": [
        "<a href=\"https://colab.research.google.com/github/prosperjohn9/LeapYear/blob/main/LeapYear.ipynb\" target=\"_parent\"><img src=\"https://colab.research.google.com/assets/colab-badge.svg\" alt=\"Open In Colab\"/></a>"
      ]
    },
    {
      "cell_type": "markdown",
      "source": [
        "Write a program that reads a year from the user and displays a message indicating whether or not it is a leap year. Leap years are any year that can be evenly divided by 4 or/and 400 except it can be evenly divided by 100."
      ],
      "metadata": {
        "id": "iYNFfFE7x2Ew"
      }
    },
    {
      "cell_type": "code",
      "execution_count": null,
      "metadata": {
        "colab": {
          "base_uri": "https://localhost:8080/"
        },
        "id": "MNdOWfI-xrQ1",
        "outputId": "847f2e5f-c635-4c1c-d313-b544b66027ec"
      },
      "outputs": [
        {
          "output_type": "stream",
          "name": "stdout",
          "text": [
            "Please enter a year: 1996\n",
            "It is a leap year\n"
          ]
        }
      ],
      "source": [
        "# Input a year from the user\n",
        "year = int(input(\"Please enter a year: \"))\n",
        "\n",
        "# Determine if it is a leap year\n",
        "if year % 4 == 0:\n",
        "  if year % 100 == 0:\n",
        "    if year % 400 == 0:\n",
        "      print(\"It is a leap year\")\n",
        "    else:\n",
        "      print(\"It is not a leap year\")\n",
        "  else:\n",
        "    print(\"It is a leap year\")\n",
        "else:\n",
        "  print(\"It is not a leap year\")"
      ]
    }
  ]
}